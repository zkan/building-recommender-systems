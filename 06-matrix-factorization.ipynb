{
 "cells": [
  {
   "cell_type": "markdown",
   "metadata": {},
   "source": [
    "# Latent Factor Models: Matrix Factorization"
   ]
  },
  {
   "cell_type": "markdown",
   "metadata": {},
   "source": [
    "## Example"
   ]
  },
  {
   "cell_type": "code",
   "execution_count": 153,
   "metadata": {
    "collapsed": true
   },
   "outputs": [],
   "source": [
    "R = [\n",
    "    [5,3,0,1],\n",
    "    [4,0,0,1],\n",
    "    [1,1,0,5],\n",
    "    [1,0,0,4],\n",
    "    [0,1,5,4],\n",
    "]"
   ]
  },
  {
   "cell_type": "code",
   "execution_count": 154,
   "metadata": {
    "collapsed": true
   },
   "outputs": [],
   "source": [
    "from sklearn.decomposition import NMF"
   ]
  },
  {
   "cell_type": "code",
   "execution_count": 155,
   "metadata": {
    "collapsed": true
   },
   "outputs": [],
   "source": [
    "model = NMF(n_components=2, alpha=0.001, beta=0.001, init='random', max_iter=2000, random_state=0)"
   ]
  },
  {
   "cell_type": "code",
   "execution_count": 156,
   "metadata": {
    "collapsed": false
   },
   "outputs": [
    {
     "data": {
      "text/plain": [
       "array([[ 0.        ,  1.8759484 ],\n",
       "       [ 0.        ,  1.25078268],\n",
       "       [ 1.41676577,  0.46869391],\n",
       "       [ 1.11011537,  0.35030503],\n",
       "       [ 2.06394737,  0.        ]])"
      ]
     },
     "execution_count": 156,
     "metadata": {},
     "output_type": "execute_result"
    }
   ],
   "source": [
    "nP = model.fit_transform(R)\n",
    "nP"
   ]
  },
  {
   "cell_type": "code",
   "execution_count": 157,
   "metadata": {
    "collapsed": false
   },
   "outputs": [
    {
     "data": {
      "text/plain": [
       "array([[ 0.        ,  2.80114155],\n",
       "       [ 0.31493492,  1.06226506],\n",
       "       [ 1.3758805 ,  0.        ],\n",
       "       [ 2.52829136,  0.77562929]])"
      ]
     },
     "execution_count": 157,
     "metadata": {},
     "output_type": "execute_result"
    }
   ],
   "source": [
    "nQ = model.components_.T\n",
    "nQ"
   ]
  },
  {
   "cell_type": "code",
   "execution_count": 158,
   "metadata": {
    "collapsed": false
   },
   "outputs": [
    {
     "data": {
      "text/plain": [
       "array([[ 5.254797  ,  1.99275443,  0.        ,  1.45504052],\n",
       "       [ 3.50361933,  1.32866273,  0.        ,  0.97014368],\n",
       "       [ 1.31287799,  0.94406618,  1.9493004 ,  3.94552939],\n",
       "       [ 0.98125398,  0.72173089,  1.52738609,  3.07840195],\n",
       "       [ 0.        ,  0.65000909,  2.83974494,  5.21826031]])"
      ]
     },
     "execution_count": 158,
     "metadata": {},
     "output_type": "execute_result"
    }
   ],
   "source": [
    "import numpy as np\n",
    "\n",
    "nR = np.dot(nP, nQ.T)\n",
    "nR"
   ]
  },
  {
   "cell_type": "markdown",
   "metadata": {},
   "source": [
    "## Try Wine Ratings Data"
   ]
  },
  {
   "cell_type": "code",
   "execution_count": 159,
   "metadata": {
    "collapsed": true
   },
   "outputs": [],
   "source": [
    "import pandas as pd"
   ]
  },
  {
   "cell_type": "code",
   "execution_count": 160,
   "metadata": {
    "collapsed": true
   },
   "outputs": [],
   "source": [
    "wine_ratings = pd.read_csv('data/reviews.csv')"
   ]
  },
  {
   "cell_type": "code",
   "execution_count": 161,
   "metadata": {
    "collapsed": false
   },
   "outputs": [
    {
     "data": {
      "text/html": [
       "<div>\n",
       "<table border=\"1\" class=\"dataframe\">\n",
       "  <thead>\n",
       "    <tr style=\"text-align: right;\">\n",
       "      <th></th>\n",
       "      <th>id</th>\n",
       "      <th>username</th>\n",
       "      <th>wine</th>\n",
       "      <th>rating</th>\n",
       "      <th>comment</th>\n",
       "    </tr>\n",
       "  </thead>\n",
       "  <tbody>\n",
       "    <tr>\n",
       "      <th>0</th>\n",
       "      <td>0</td>\n",
       "      <td>jadianes</td>\n",
       "      <td>Manzanilla La Gitana</td>\n",
       "      <td>4</td>\n",
       "      <td>Beautiful Manzanilla. Great price.</td>\n",
       "    </tr>\n",
       "    <tr>\n",
       "      <th>1</th>\n",
       "      <td>1</td>\n",
       "      <td>jadianes</td>\n",
       "      <td>Pol Roger Rose 1998</td>\n",
       "      <td>3</td>\n",
       "      <td>Classy Rose. Not great.</td>\n",
       "    </tr>\n",
       "    <tr>\n",
       "      <th>2</th>\n",
       "      <td>2</td>\n",
       "      <td>jadianes</td>\n",
       "      <td>Molino Real 2002</td>\n",
       "      <td>4</td>\n",
       "      <td>This can be great with time.</td>\n",
       "    </tr>\n",
       "    <tr>\n",
       "      <th>3</th>\n",
       "      <td>3</td>\n",
       "      <td>jadianes</td>\n",
       "      <td>Le Grappin Bagnum Rose 2013</td>\n",
       "      <td>2</td>\n",
       "      <td>Drinkable...</td>\n",
       "    </tr>\n",
       "    <tr>\n",
       "      <th>4</th>\n",
       "      <td>4</td>\n",
       "      <td>jadianes</td>\n",
       "      <td>La Bota de Amontillado 1</td>\n",
       "      <td>5</td>\n",
       "      <td>A treasure of a wine</td>\n",
       "    </tr>\n",
       "  </tbody>\n",
       "</table>\n",
       "</div>"
      ],
      "text/plain": [
       "   id  username                         wine  rating  \\\n",
       "0   0  jadianes         Manzanilla La Gitana       4   \n",
       "1   1  jadianes          Pol Roger Rose 1998       3   \n",
       "2   2  jadianes             Molino Real 2002       4   \n",
       "3   3  jadianes  Le Grappin Bagnum Rose 2013       2   \n",
       "4   4  jadianes     La Bota de Amontillado 1       5   \n",
       "\n",
       "                              comment  \n",
       "0  Beautiful Manzanilla. Great price.  \n",
       "1             Classy Rose. Not great.  \n",
       "2        This can be great with time.  \n",
       "3                        Drinkable...  \n",
       "4                A treasure of a wine  "
      ]
     },
     "execution_count": 161,
     "metadata": {},
     "output_type": "execute_result"
    }
   ],
   "source": [
    "wine_ratings.head()"
   ]
  },
  {
   "cell_type": "code",
   "execution_count": 162,
   "metadata": {
    "collapsed": false
   },
   "outputs": [],
   "source": [
    "wine_ratings_pivoted = wine_ratings.pivot('username', 'wine', 'rating').fillna(0)"
   ]
  },
  {
   "cell_type": "code",
   "execution_count": 163,
   "metadata": {
    "collapsed": false
   },
   "outputs": [
    {
     "data": {
      "text/html": [
       "<div>\n",
       "<table border=\"1\" class=\"dataframe\">\n",
       "  <thead>\n",
       "    <tr style=\"text-align: right;\">\n",
       "      <th>wine</th>\n",
       "      <th>Chateau Latour 1982</th>\n",
       "      <th>JL Chave Hermitage 2001</th>\n",
       "      <th>La Bota de Amontillado 1</th>\n",
       "      <th>Le Grappin Bagnum Rose 2013</th>\n",
       "      <th>Manzanilla La Gitana</th>\n",
       "      <th>Molino Real 2002</th>\n",
       "      <th>Pol Roger Rose 1998</th>\n",
       "      <th>Raveneu Le Clos 1996</th>\n",
       "      <th>Rosseau Chambertin 2001</th>\n",
       "      <th>Vega Sicilia Unico 1989</th>\n",
       "      <th>Viña Tondonia Blanco Reserva 1981</th>\n",
       "    </tr>\n",
       "    <tr>\n",
       "      <th>username</th>\n",
       "      <th></th>\n",
       "      <th></th>\n",
       "      <th></th>\n",
       "      <th></th>\n",
       "      <th></th>\n",
       "      <th></th>\n",
       "      <th></th>\n",
       "      <th></th>\n",
       "      <th></th>\n",
       "      <th></th>\n",
       "      <th></th>\n",
       "    </tr>\n",
       "  </thead>\n",
       "  <tbody>\n",
       "    <tr>\n",
       "      <th>carlos</th>\n",
       "      <td>0.0</td>\n",
       "      <td>5.0</td>\n",
       "      <td>0.0</td>\n",
       "      <td>0.0</td>\n",
       "      <td>4.0</td>\n",
       "      <td>4.0</td>\n",
       "      <td>0.0</td>\n",
       "      <td>0.0</td>\n",
       "      <td>0.0</td>\n",
       "      <td>0.0</td>\n",
       "      <td>0.0</td>\n",
       "    </tr>\n",
       "    <tr>\n",
       "      <th>jadianes</th>\n",
       "      <td>0.0</td>\n",
       "      <td>0.0</td>\n",
       "      <td>5.0</td>\n",
       "      <td>2.0</td>\n",
       "      <td>4.0</td>\n",
       "      <td>4.0</td>\n",
       "      <td>3.0</td>\n",
       "      <td>0.0</td>\n",
       "      <td>0.0</td>\n",
       "      <td>0.0</td>\n",
       "      <td>0.0</td>\n",
       "    </tr>\n",
       "    <tr>\n",
       "      <th>john</th>\n",
       "      <td>0.0</td>\n",
       "      <td>4.0</td>\n",
       "      <td>2.0</td>\n",
       "      <td>3.0</td>\n",
       "      <td>2.0</td>\n",
       "      <td>2.0</td>\n",
       "      <td>4.0</td>\n",
       "      <td>0.0</td>\n",
       "      <td>0.0</td>\n",
       "      <td>0.0</td>\n",
       "      <td>0.0</td>\n",
       "    </tr>\n",
       "    <tr>\n",
       "      <th>lluis</th>\n",
       "      <td>4.0</td>\n",
       "      <td>0.0</td>\n",
       "      <td>0.0</td>\n",
       "      <td>0.0</td>\n",
       "      <td>4.0</td>\n",
       "      <td>0.0</td>\n",
       "      <td>0.0</td>\n",
       "      <td>0.0</td>\n",
       "      <td>4.0</td>\n",
       "      <td>0.0</td>\n",
       "      <td>5.0</td>\n",
       "    </tr>\n",
       "    <tr>\n",
       "      <th>mari</th>\n",
       "      <td>0.0</td>\n",
       "      <td>0.0</td>\n",
       "      <td>0.0</td>\n",
       "      <td>0.0</td>\n",
       "      <td>3.0</td>\n",
       "      <td>5.0</td>\n",
       "      <td>2.0</td>\n",
       "      <td>5.0</td>\n",
       "      <td>0.0</td>\n",
       "      <td>0.0</td>\n",
       "      <td>0.0</td>\n",
       "    </tr>\n",
       "    <tr>\n",
       "      <th>pepe</th>\n",
       "      <td>0.0</td>\n",
       "      <td>0.0</td>\n",
       "      <td>5.0</td>\n",
       "      <td>0.0</td>\n",
       "      <td>4.0</td>\n",
       "      <td>0.0</td>\n",
       "      <td>2.0</td>\n",
       "      <td>0.0</td>\n",
       "      <td>4.0</td>\n",
       "      <td>4.0</td>\n",
       "      <td>0.0</td>\n",
       "    </tr>\n",
       "    <tr>\n",
       "      <th>teus</th>\n",
       "      <td>0.0</td>\n",
       "      <td>0.0</td>\n",
       "      <td>5.0</td>\n",
       "      <td>0.0</td>\n",
       "      <td>4.0</td>\n",
       "      <td>5.0</td>\n",
       "      <td>0.0</td>\n",
       "      <td>0.0</td>\n",
       "      <td>0.0</td>\n",
       "      <td>0.0</td>\n",
       "      <td>4.0</td>\n",
       "    </tr>\n",
       "    <tr>\n",
       "      <th>yasset</th>\n",
       "      <td>0.0</td>\n",
       "      <td>0.0</td>\n",
       "      <td>0.0</td>\n",
       "      <td>0.0</td>\n",
       "      <td>4.0</td>\n",
       "      <td>1.0</td>\n",
       "      <td>2.0</td>\n",
       "      <td>4.0</td>\n",
       "      <td>0.0</td>\n",
       "      <td>5.0</td>\n",
       "      <td>0.0</td>\n",
       "    </tr>\n",
       "  </tbody>\n",
       "</table>\n",
       "</div>"
      ],
      "text/plain": [
       "wine      Chateau Latour 1982  JL Chave Hermitage 2001  \\\n",
       "username                                                 \n",
       "carlos                    0.0                      5.0   \n",
       "jadianes                  0.0                      0.0   \n",
       "john                      0.0                      4.0   \n",
       "lluis                     4.0                      0.0   \n",
       "mari                      0.0                      0.0   \n",
       "pepe                      0.0                      0.0   \n",
       "teus                      0.0                      0.0   \n",
       "yasset                    0.0                      0.0   \n",
       "\n",
       "wine      La Bota de Amontillado 1  Le Grappin Bagnum Rose 2013  \\\n",
       "username                                                          \n",
       "carlos                         0.0                          0.0   \n",
       "jadianes                       5.0                          2.0   \n",
       "john                           2.0                          3.0   \n",
       "lluis                          0.0                          0.0   \n",
       "mari                           0.0                          0.0   \n",
       "pepe                           5.0                          0.0   \n",
       "teus                           5.0                          0.0   \n",
       "yasset                         0.0                          0.0   \n",
       "\n",
       "wine      Manzanilla La Gitana  Molino Real 2002  Pol Roger Rose 1998  \\\n",
       "username                                                                \n",
       "carlos                     4.0               4.0                  0.0   \n",
       "jadianes                   4.0               4.0                  3.0   \n",
       "john                       2.0               2.0                  4.0   \n",
       "lluis                      4.0               0.0                  0.0   \n",
       "mari                       3.0               5.0                  2.0   \n",
       "pepe                       4.0               0.0                  2.0   \n",
       "teus                       4.0               5.0                  0.0   \n",
       "yasset                     4.0               1.0                  2.0   \n",
       "\n",
       "wine      Raveneu Le Clos 1996  Rosseau Chambertin 2001  \\\n",
       "username                                                  \n",
       "carlos                     0.0                      0.0   \n",
       "jadianes                   0.0                      0.0   \n",
       "john                       0.0                      0.0   \n",
       "lluis                      0.0                      4.0   \n",
       "mari                       5.0                      0.0   \n",
       "pepe                       0.0                      4.0   \n",
       "teus                       0.0                      0.0   \n",
       "yasset                     4.0                      0.0   \n",
       "\n",
       "wine      Vega Sicilia Unico 1989  Viña Tondonia Blanco Reserva 1981  \n",
       "username                                                              \n",
       "carlos                        0.0                                0.0  \n",
       "jadianes                      0.0                                0.0  \n",
       "john                          0.0                                0.0  \n",
       "lluis                         0.0                                5.0  \n",
       "mari                          0.0                                0.0  \n",
       "pepe                          4.0                                0.0  \n",
       "teus                          0.0                                4.0  \n",
       "yasset                        5.0                                0.0  "
      ]
     },
     "execution_count": 163,
     "metadata": {},
     "output_type": "execute_result"
    }
   ],
   "source": [
    "wine_ratings_pivoted"
   ]
  },
  {
   "cell_type": "code",
   "execution_count": 164,
   "metadata": {
    "collapsed": true
   },
   "outputs": [],
   "source": [
    "from sklearn.decomposition import NMF"
   ]
  },
  {
   "cell_type": "code",
   "execution_count": 165,
   "metadata": {
    "collapsed": true
   },
   "outputs": [],
   "source": [
    "model = NMF(n_components=2, alpha=0.001, beta=0.001, init='random', max_iter=2000, random_state=0)"
   ]
  },
  {
   "cell_type": "code",
   "execution_count": 166,
   "metadata": {
    "collapsed": false
   },
   "outputs": [
    {
     "data": {
      "text/plain": [
       "array([[ 1.24516062,  0.        ],\n",
       "       [ 1.54143407,  0.24982783],\n",
       "       [ 1.23788213,  0.        ],\n",
       "       [ 0.        ,  1.99782926],\n",
       "       [ 1.38679969,  0.        ],\n",
       "       [ 0.48926225,  1.5934595 ],\n",
       "       [ 1.17777229,  0.90391384],\n",
       "       [ 0.81387229,  0.54025351]])"
      ]
     },
     "execution_count": 166,
     "metadata": {},
     "output_type": "execute_result"
    }
   ],
   "source": [
    "nP = model.fit_transform(wine_ratings_pivoted)\n",
    "nP"
   ]
  },
  {
   "cell_type": "code",
   "execution_count": 167,
   "metadata": {
    "collapsed": false
   },
   "outputs": [
    {
     "data": {
      "text/plain": [
       "array([[ 0.        ,  1.03745842],\n",
       "       [ 1.15564732,  0.        ],\n",
       "       [ 1.57291057,  1.23823875],\n",
       "       [ 0.70270563,  0.        ],\n",
       "       [ 2.32997139,  1.93727486],\n",
       "       [ 2.81835122,  0.        ],\n",
       "       [ 1.51105048,  0.12773221],\n",
       "       [ 1.0535121 ,  0.        ],\n",
       "       [ 0.        ,  1.86493052],\n",
       "       [ 0.32945149,  1.06400437],\n",
       "       [ 0.        ,  1.766219  ]])"
      ]
     },
     "execution_count": 167,
     "metadata": {},
     "output_type": "execute_result"
    }
   ],
   "source": [
    "nQ = model.components_.T\n",
    "nQ"
   ]
  },
  {
   "cell_type": "code",
   "execution_count": 168,
   "metadata": {
    "collapsed": false
   },
   "outputs": [
    {
     "data": {
      "text/plain": [
       "array([[ 0.        ,  1.43896653,  1.95852629,  0.87498137,  2.90118862,\n",
       "         3.50929994,  1.88150055,  1.31179177,  0.        ,  0.41022002,\n",
       "         0.        ],\n",
       "       [ 0.25918598,  1.78135416,  2.73388444,  1.0831744 ,  4.07548246,\n",
       "         4.34430259,  2.36109576,  1.62391944,  0.46591154,  0.77364564,\n",
       "         0.44125065],\n",
       "       [ 0.        ,  1.43055517,  1.94707789,  0.86986674,  2.88422996,\n",
       "         3.48878662,  1.8705024 ,  1.3041238 ,  0.        ,  0.40782211,\n",
       "         0.        ],\n",
       "       [ 2.07266478,  0.        ,  2.4737896 ,  0.        ,  3.87034439,\n",
       "         0.        ,  0.25518715,  0.        ,  3.72581276,  2.12569905,\n",
       "         3.528604  ],\n",
       "       [ 0.        ,  1.60265135,  2.18131189,  0.97451195,  3.23120361,\n",
       "         3.90848859,  2.09552434,  1.46101025,  0.        ,  0.45688322,\n",
       "         0.        ],\n",
       "       [ 1.65314798,  0.56541461,  2.74264907,  0.34380734,  4.22693608,\n",
       "         1.37891286,  0.94283607,  0.5154437 ,  2.97169126,  1.85663605,\n",
       "         2.81439846],\n",
       "       [ 0.93777302,  1.36108939,  2.97179163,  0.82762722,  4.4953053 ,\n",
       "         3.31937596,  1.8951323 ,  1.24079735,  1.68573651,  1.34978711,\n",
       "         1.5965098 ],\n",
       "       [ 0.56049056,  0.94054933,  1.94911116,  0.57191264,  2.9429187 ,\n",
       "         2.29377796,  1.29880989,  0.8574243 ,  1.00753527,  0.84296353,\n",
       "         0.95420602]])"
      ]
     },
     "execution_count": 168,
     "metadata": {},
     "output_type": "execute_result"
    }
   ],
   "source": [
    "import numpy as np\n",
    "\n",
    "nR = np.dot(nP, nQ.T)\n",
    "nR"
   ]
  }
 ],
 "metadata": {
  "anaconda-cloud": {},
  "kernelspec": {
   "display_name": "Python [Root]",
   "language": "python",
   "name": "Python [Root]"
  },
  "language_info": {
   "codemirror_mode": {
    "name": "ipython",
    "version": 3
   },
   "file_extension": ".py",
   "mimetype": "text/x-python",
   "name": "python",
   "nbconvert_exporter": "python",
   "pygments_lexer": "ipython3",
   "version": "3.5.1"
  }
 },
 "nbformat": 4,
 "nbformat_minor": 0
}
