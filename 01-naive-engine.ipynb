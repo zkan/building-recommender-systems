{
 "cells": [
  {
   "cell_type": "markdown",
   "metadata": {
    "collapsed": true
   },
   "source": [
    "# Naive Engine"
   ]
  },
  {
   "cell_type": "markdown",
   "metadata": {},
   "source": [
    "Just return items **not** seen or reviewed by a given user."
   ]
  },
  {
   "cell_type": "code",
   "execution_count": 2,
   "metadata": {
    "collapsed": true
   },
   "outputs": [],
   "source": [
    "import pandas as pd"
   ]
  },
  {
   "cell_type": "code",
   "execution_count": 3,
   "metadata": {
    "collapsed": false
   },
   "outputs": [],
   "source": [
    "wine_ratings = pd.read_csv('data/reviews.csv')"
   ]
  },
  {
   "cell_type": "code",
   "execution_count": 4,
   "metadata": {
    "collapsed": false
   },
   "outputs": [
    {
     "data": {
      "text/html": [
       "<div>\n",
       "<table border=\"1\" class=\"dataframe\">\n",
       "  <thead>\n",
       "    <tr style=\"text-align: right;\">\n",
       "      <th></th>\n",
       "      <th>id</th>\n",
       "      <th>username</th>\n",
       "      <th>wine</th>\n",
       "      <th>rating</th>\n",
       "      <th>comment</th>\n",
       "    </tr>\n",
       "  </thead>\n",
       "  <tbody>\n",
       "    <tr>\n",
       "      <th>0</th>\n",
       "      <td>0</td>\n",
       "      <td>jadianes</td>\n",
       "      <td>Manzanilla La Gitana</td>\n",
       "      <td>4</td>\n",
       "      <td>Beautiful Manzanilla. Great price.</td>\n",
       "    </tr>\n",
       "    <tr>\n",
       "      <th>1</th>\n",
       "      <td>1</td>\n",
       "      <td>jadianes</td>\n",
       "      <td>Pol Roger Rose 1998</td>\n",
       "      <td>3</td>\n",
       "      <td>Classy Rose. Not great.</td>\n",
       "    </tr>\n",
       "    <tr>\n",
       "      <th>2</th>\n",
       "      <td>2</td>\n",
       "      <td>jadianes</td>\n",
       "      <td>Molino Real 2002</td>\n",
       "      <td>4</td>\n",
       "      <td>This can be great with time.</td>\n",
       "    </tr>\n",
       "    <tr>\n",
       "      <th>3</th>\n",
       "      <td>3</td>\n",
       "      <td>jadianes</td>\n",
       "      <td>Le Grappin Bagnum Rose 2013</td>\n",
       "      <td>2</td>\n",
       "      <td>Drinkable...</td>\n",
       "    </tr>\n",
       "    <tr>\n",
       "      <th>4</th>\n",
       "      <td>4</td>\n",
       "      <td>jadianes</td>\n",
       "      <td>La Bota de Amontillado 1</td>\n",
       "      <td>5</td>\n",
       "      <td>A treasure of a wine</td>\n",
       "    </tr>\n",
       "  </tbody>\n",
       "</table>\n",
       "</div>"
      ],
      "text/plain": [
       "   id  username                         wine  rating  \\\n",
       "0   0  jadianes         Manzanilla La Gitana       4   \n",
       "1   1  jadianes          Pol Roger Rose 1998       3   \n",
       "2   2  jadianes             Molino Real 2002       4   \n",
       "3   3  jadianes  Le Grappin Bagnum Rose 2013       2   \n",
       "4   4  jadianes     La Bota de Amontillado 1       5   \n",
       "\n",
       "                              comment  \n",
       "0  Beautiful Manzanilla. Great price.  \n",
       "1             Classy Rose. Not great.  \n",
       "2        This can be great with time.  \n",
       "3                        Drinkable...  \n",
       "4                A treasure of a wine  "
      ]
     },
     "execution_count": 4,
     "metadata": {},
     "output_type": "execute_result"
    }
   ],
   "source": [
    "wine_ratings.head()"
   ]
  },
  {
   "cell_type": "code",
   "execution_count": 5,
   "metadata": {
    "collapsed": false
   },
   "outputs": [
    {
     "data": {
      "text/html": [
       "<div>\n",
       "<table border=\"1\" class=\"dataframe\">\n",
       "  <thead>\n",
       "    <tr style=\"text-align: right;\">\n",
       "      <th></th>\n",
       "      <th>id</th>\n",
       "      <th>username</th>\n",
       "      <th>wine</th>\n",
       "      <th>rating</th>\n",
       "      <th>comment</th>\n",
       "    </tr>\n",
       "  </thead>\n",
       "  <tbody>\n",
       "    <tr>\n",
       "      <th>31</th>\n",
       "      <td>31</td>\n",
       "      <td>pepe</td>\n",
       "      <td>La Bota de Amontillado 1</td>\n",
       "      <td>5</td>\n",
       "      <td>Jooe!</td>\n",
       "    </tr>\n",
       "    <tr>\n",
       "      <th>32</th>\n",
       "      <td>32</td>\n",
       "      <td>pepe</td>\n",
       "      <td>Vega Sicilia Unico 1989</td>\n",
       "      <td>4</td>\n",
       "      <td>Vega Siclia...</td>\n",
       "    </tr>\n",
       "    <tr>\n",
       "      <th>33</th>\n",
       "      <td>33</td>\n",
       "      <td>pepe</td>\n",
       "      <td>Manzanilla La Gitana</td>\n",
       "      <td>4</td>\n",
       "      <td>Esto y unas gambitas!</td>\n",
       "    </tr>\n",
       "    <tr>\n",
       "      <th>34</th>\n",
       "      <td>34</td>\n",
       "      <td>pepe</td>\n",
       "      <td>Pol Roger Rose 1998</td>\n",
       "      <td>2</td>\n",
       "      <td>No esta mal</td>\n",
       "    </tr>\n",
       "    <tr>\n",
       "      <th>35</th>\n",
       "      <td>35</td>\n",
       "      <td>pepe</td>\n",
       "      <td>Rosseau Chambertin 2001</td>\n",
       "      <td>4</td>\n",
       "      <td>Muy bueno</td>\n",
       "    </tr>\n",
       "  </tbody>\n",
       "</table>\n",
       "</div>"
      ],
      "text/plain": [
       "    id username                      wine  rating                comment\n",
       "31  31     pepe  La Bota de Amontillado 1       5                  Jooe!\n",
       "32  32     pepe   Vega Sicilia Unico 1989       4         Vega Siclia...\n",
       "33  33     pepe      Manzanilla La Gitana       4  Esto y unas gambitas!\n",
       "34  34     pepe       Pol Roger Rose 1998       2            No esta mal\n",
       "35  35     pepe   Rosseau Chambertin 2001       4              Muy bueno"
      ]
     },
     "execution_count": 5,
     "metadata": {},
     "output_type": "execute_result"
    }
   ],
   "source": [
    "wine_ratings.tail()"
   ]
  },
  {
   "cell_type": "code",
   "execution_count": 6,
   "metadata": {
    "collapsed": false
   },
   "outputs": [],
   "source": [
    "wine_ratings_pivoted = wine_ratings.pivot('username', 'wine', 'rating')"
   ]
  },
  {
   "cell_type": "code",
   "execution_count": 7,
   "metadata": {
    "collapsed": false
   },
   "outputs": [
    {
     "data": {
      "text/html": [
       "<div>\n",
       "<table border=\"1\" class=\"dataframe\">\n",
       "  <thead>\n",
       "    <tr style=\"text-align: right;\">\n",
       "      <th>wine</th>\n",
       "      <th>Chateau Latour 1982</th>\n",
       "      <th>JL Chave Hermitage 2001</th>\n",
       "      <th>La Bota de Amontillado 1</th>\n",
       "      <th>Le Grappin Bagnum Rose 2013</th>\n",
       "      <th>Manzanilla La Gitana</th>\n",
       "      <th>Molino Real 2002</th>\n",
       "      <th>Pol Roger Rose 1998</th>\n",
       "      <th>Raveneu Le Clos 1996</th>\n",
       "      <th>Rosseau Chambertin 2001</th>\n",
       "      <th>Vega Sicilia Unico 1989</th>\n",
       "      <th>Viña Tondonia Blanco Reserva 1981</th>\n",
       "    </tr>\n",
       "    <tr>\n",
       "      <th>username</th>\n",
       "      <th></th>\n",
       "      <th></th>\n",
       "      <th></th>\n",
       "      <th></th>\n",
       "      <th></th>\n",
       "      <th></th>\n",
       "      <th></th>\n",
       "      <th></th>\n",
       "      <th></th>\n",
       "      <th></th>\n",
       "      <th></th>\n",
       "    </tr>\n",
       "  </thead>\n",
       "  <tbody>\n",
       "    <tr>\n",
       "      <th>carlos</th>\n",
       "      <td>NaN</td>\n",
       "      <td>5.0</td>\n",
       "      <td>NaN</td>\n",
       "      <td>NaN</td>\n",
       "      <td>4.0</td>\n",
       "      <td>4.0</td>\n",
       "      <td>NaN</td>\n",
       "      <td>NaN</td>\n",
       "      <td>NaN</td>\n",
       "      <td>NaN</td>\n",
       "      <td>NaN</td>\n",
       "    </tr>\n",
       "    <tr>\n",
       "      <th>jadianes</th>\n",
       "      <td>NaN</td>\n",
       "      <td>NaN</td>\n",
       "      <td>5.0</td>\n",
       "      <td>2.0</td>\n",
       "      <td>4.0</td>\n",
       "      <td>4.0</td>\n",
       "      <td>3.0</td>\n",
       "      <td>NaN</td>\n",
       "      <td>NaN</td>\n",
       "      <td>NaN</td>\n",
       "      <td>NaN</td>\n",
       "    </tr>\n",
       "    <tr>\n",
       "      <th>john</th>\n",
       "      <td>NaN</td>\n",
       "      <td>4.0</td>\n",
       "      <td>2.0</td>\n",
       "      <td>3.0</td>\n",
       "      <td>2.0</td>\n",
       "      <td>2.0</td>\n",
       "      <td>4.0</td>\n",
       "      <td>NaN</td>\n",
       "      <td>NaN</td>\n",
       "      <td>NaN</td>\n",
       "      <td>NaN</td>\n",
       "    </tr>\n",
       "    <tr>\n",
       "      <th>lluis</th>\n",
       "      <td>4.0</td>\n",
       "      <td>NaN</td>\n",
       "      <td>NaN</td>\n",
       "      <td>NaN</td>\n",
       "      <td>4.0</td>\n",
       "      <td>NaN</td>\n",
       "      <td>NaN</td>\n",
       "      <td>NaN</td>\n",
       "      <td>4.0</td>\n",
       "      <td>NaN</td>\n",
       "      <td>5.0</td>\n",
       "    </tr>\n",
       "    <tr>\n",
       "      <th>mari</th>\n",
       "      <td>NaN</td>\n",
       "      <td>NaN</td>\n",
       "      <td>NaN</td>\n",
       "      <td>NaN</td>\n",
       "      <td>3.0</td>\n",
       "      <td>5.0</td>\n",
       "      <td>2.0</td>\n",
       "      <td>5.0</td>\n",
       "      <td>NaN</td>\n",
       "      <td>NaN</td>\n",
       "      <td>NaN</td>\n",
       "    </tr>\n",
       "    <tr>\n",
       "      <th>pepe</th>\n",
       "      <td>NaN</td>\n",
       "      <td>NaN</td>\n",
       "      <td>5.0</td>\n",
       "      <td>NaN</td>\n",
       "      <td>4.0</td>\n",
       "      <td>NaN</td>\n",
       "      <td>2.0</td>\n",
       "      <td>NaN</td>\n",
       "      <td>4.0</td>\n",
       "      <td>4.0</td>\n",
       "      <td>NaN</td>\n",
       "    </tr>\n",
       "    <tr>\n",
       "      <th>teus</th>\n",
       "      <td>NaN</td>\n",
       "      <td>NaN</td>\n",
       "      <td>5.0</td>\n",
       "      <td>NaN</td>\n",
       "      <td>4.0</td>\n",
       "      <td>5.0</td>\n",
       "      <td>NaN</td>\n",
       "      <td>NaN</td>\n",
       "      <td>NaN</td>\n",
       "      <td>NaN</td>\n",
       "      <td>4.0</td>\n",
       "    </tr>\n",
       "    <tr>\n",
       "      <th>yasset</th>\n",
       "      <td>NaN</td>\n",
       "      <td>NaN</td>\n",
       "      <td>NaN</td>\n",
       "      <td>NaN</td>\n",
       "      <td>4.0</td>\n",
       "      <td>1.0</td>\n",
       "      <td>2.0</td>\n",
       "      <td>4.0</td>\n",
       "      <td>NaN</td>\n",
       "      <td>5.0</td>\n",
       "      <td>NaN</td>\n",
       "    </tr>\n",
       "  </tbody>\n",
       "</table>\n",
       "</div>"
      ],
      "text/plain": [
       "wine      Chateau Latour 1982  JL Chave Hermitage 2001  \\\n",
       "username                                                 \n",
       "carlos                    NaN                      5.0   \n",
       "jadianes                  NaN                      NaN   \n",
       "john                      NaN                      4.0   \n",
       "lluis                     4.0                      NaN   \n",
       "mari                      NaN                      NaN   \n",
       "pepe                      NaN                      NaN   \n",
       "teus                      NaN                      NaN   \n",
       "yasset                    NaN                      NaN   \n",
       "\n",
       "wine      La Bota de Amontillado 1  Le Grappin Bagnum Rose 2013  \\\n",
       "username                                                          \n",
       "carlos                         NaN                          NaN   \n",
       "jadianes                       5.0                          2.0   \n",
       "john                           2.0                          3.0   \n",
       "lluis                          NaN                          NaN   \n",
       "mari                           NaN                          NaN   \n",
       "pepe                           5.0                          NaN   \n",
       "teus                           5.0                          NaN   \n",
       "yasset                         NaN                          NaN   \n",
       "\n",
       "wine      Manzanilla La Gitana  Molino Real 2002  Pol Roger Rose 1998  \\\n",
       "username                                                                \n",
       "carlos                     4.0               4.0                  NaN   \n",
       "jadianes                   4.0               4.0                  3.0   \n",
       "john                       2.0               2.0                  4.0   \n",
       "lluis                      4.0               NaN                  NaN   \n",
       "mari                       3.0               5.0                  2.0   \n",
       "pepe                       4.0               NaN                  2.0   \n",
       "teus                       4.0               5.0                  NaN   \n",
       "yasset                     4.0               1.0                  2.0   \n",
       "\n",
       "wine      Raveneu Le Clos 1996  Rosseau Chambertin 2001  \\\n",
       "username                                                  \n",
       "carlos                     NaN                      NaN   \n",
       "jadianes                   NaN                      NaN   \n",
       "john                       NaN                      NaN   \n",
       "lluis                      NaN                      4.0   \n",
       "mari                       5.0                      NaN   \n",
       "pepe                       NaN                      4.0   \n",
       "teus                       NaN                      NaN   \n",
       "yasset                     4.0                      NaN   \n",
       "\n",
       "wine      Vega Sicilia Unico 1989  Viña Tondonia Blanco Reserva 1981  \n",
       "username                                                              \n",
       "carlos                        NaN                                NaN  \n",
       "jadianes                      NaN                                NaN  \n",
       "john                          NaN                                NaN  \n",
       "lluis                         NaN                                5.0  \n",
       "mari                          NaN                                NaN  \n",
       "pepe                          4.0                                NaN  \n",
       "teus                          NaN                                4.0  \n",
       "yasset                        5.0                                NaN  "
      ]
     },
     "execution_count": 7,
     "metadata": {},
     "output_type": "execute_result"
    }
   ],
   "source": [
    "wine_ratings_pivoted"
   ]
  },
  {
   "cell_type": "code",
   "execution_count": 8,
   "metadata": {
    "collapsed": false
   },
   "outputs": [
    {
     "data": {
      "text/html": [
       "<div>\n",
       "<table border=\"1\" class=\"dataframe\">\n",
       "  <thead>\n",
       "    <tr style=\"text-align: right;\">\n",
       "      <th>wine</th>\n",
       "      <th>Chateau Latour 1982</th>\n",
       "      <th>JL Chave Hermitage 2001</th>\n",
       "      <th>La Bota de Amontillado 1</th>\n",
       "      <th>Le Grappin Bagnum Rose 2013</th>\n",
       "      <th>Manzanilla La Gitana</th>\n",
       "      <th>Molino Real 2002</th>\n",
       "      <th>Pol Roger Rose 1998</th>\n",
       "      <th>Raveneu Le Clos 1996</th>\n",
       "      <th>Rosseau Chambertin 2001</th>\n",
       "      <th>Vega Sicilia Unico 1989</th>\n",
       "      <th>Viña Tondonia Blanco Reserva 1981</th>\n",
       "    </tr>\n",
       "    <tr>\n",
       "      <th>username</th>\n",
       "      <th></th>\n",
       "      <th></th>\n",
       "      <th></th>\n",
       "      <th></th>\n",
       "      <th></th>\n",
       "      <th></th>\n",
       "      <th></th>\n",
       "      <th></th>\n",
       "      <th></th>\n",
       "      <th></th>\n",
       "      <th></th>\n",
       "    </tr>\n",
       "  </thead>\n",
       "  <tbody>\n",
       "    <tr>\n",
       "      <th>carlos</th>\n",
       "      <td>0.0</td>\n",
       "      <td>5.0</td>\n",
       "      <td>0.0</td>\n",
       "      <td>0.0</td>\n",
       "      <td>4.0</td>\n",
       "      <td>4.0</td>\n",
       "      <td>0.0</td>\n",
       "      <td>0.0</td>\n",
       "      <td>0.0</td>\n",
       "      <td>0.0</td>\n",
       "      <td>0.0</td>\n",
       "    </tr>\n",
       "    <tr>\n",
       "      <th>jadianes</th>\n",
       "      <td>0.0</td>\n",
       "      <td>0.0</td>\n",
       "      <td>5.0</td>\n",
       "      <td>2.0</td>\n",
       "      <td>4.0</td>\n",
       "      <td>4.0</td>\n",
       "      <td>3.0</td>\n",
       "      <td>0.0</td>\n",
       "      <td>0.0</td>\n",
       "      <td>0.0</td>\n",
       "      <td>0.0</td>\n",
       "    </tr>\n",
       "    <tr>\n",
       "      <th>john</th>\n",
       "      <td>0.0</td>\n",
       "      <td>4.0</td>\n",
       "      <td>2.0</td>\n",
       "      <td>3.0</td>\n",
       "      <td>2.0</td>\n",
       "      <td>2.0</td>\n",
       "      <td>4.0</td>\n",
       "      <td>0.0</td>\n",
       "      <td>0.0</td>\n",
       "      <td>0.0</td>\n",
       "      <td>0.0</td>\n",
       "    </tr>\n",
       "    <tr>\n",
       "      <th>lluis</th>\n",
       "      <td>4.0</td>\n",
       "      <td>0.0</td>\n",
       "      <td>0.0</td>\n",
       "      <td>0.0</td>\n",
       "      <td>4.0</td>\n",
       "      <td>0.0</td>\n",
       "      <td>0.0</td>\n",
       "      <td>0.0</td>\n",
       "      <td>4.0</td>\n",
       "      <td>0.0</td>\n",
       "      <td>5.0</td>\n",
       "    </tr>\n",
       "    <tr>\n",
       "      <th>mari</th>\n",
       "      <td>0.0</td>\n",
       "      <td>0.0</td>\n",
       "      <td>0.0</td>\n",
       "      <td>0.0</td>\n",
       "      <td>3.0</td>\n",
       "      <td>5.0</td>\n",
       "      <td>2.0</td>\n",
       "      <td>5.0</td>\n",
       "      <td>0.0</td>\n",
       "      <td>0.0</td>\n",
       "      <td>0.0</td>\n",
       "    </tr>\n",
       "    <tr>\n",
       "      <th>pepe</th>\n",
       "      <td>0.0</td>\n",
       "      <td>0.0</td>\n",
       "      <td>5.0</td>\n",
       "      <td>0.0</td>\n",
       "      <td>4.0</td>\n",
       "      <td>0.0</td>\n",
       "      <td>2.0</td>\n",
       "      <td>0.0</td>\n",
       "      <td>4.0</td>\n",
       "      <td>4.0</td>\n",
       "      <td>0.0</td>\n",
       "    </tr>\n",
       "    <tr>\n",
       "      <th>teus</th>\n",
       "      <td>0.0</td>\n",
       "      <td>0.0</td>\n",
       "      <td>5.0</td>\n",
       "      <td>0.0</td>\n",
       "      <td>4.0</td>\n",
       "      <td>5.0</td>\n",
       "      <td>0.0</td>\n",
       "      <td>0.0</td>\n",
       "      <td>0.0</td>\n",
       "      <td>0.0</td>\n",
       "      <td>4.0</td>\n",
       "    </tr>\n",
       "    <tr>\n",
       "      <th>yasset</th>\n",
       "      <td>0.0</td>\n",
       "      <td>0.0</td>\n",
       "      <td>0.0</td>\n",
       "      <td>0.0</td>\n",
       "      <td>4.0</td>\n",
       "      <td>1.0</td>\n",
       "      <td>2.0</td>\n",
       "      <td>4.0</td>\n",
       "      <td>0.0</td>\n",
       "      <td>5.0</td>\n",
       "      <td>0.0</td>\n",
       "    </tr>\n",
       "  </tbody>\n",
       "</table>\n",
       "</div>"
      ],
      "text/plain": [
       "wine      Chateau Latour 1982  JL Chave Hermitage 2001  \\\n",
       "username                                                 \n",
       "carlos                    0.0                      5.0   \n",
       "jadianes                  0.0                      0.0   \n",
       "john                      0.0                      4.0   \n",
       "lluis                     4.0                      0.0   \n",
       "mari                      0.0                      0.0   \n",
       "pepe                      0.0                      0.0   \n",
       "teus                      0.0                      0.0   \n",
       "yasset                    0.0                      0.0   \n",
       "\n",
       "wine      La Bota de Amontillado 1  Le Grappin Bagnum Rose 2013  \\\n",
       "username                                                          \n",
       "carlos                         0.0                          0.0   \n",
       "jadianes                       5.0                          2.0   \n",
       "john                           2.0                          3.0   \n",
       "lluis                          0.0                          0.0   \n",
       "mari                           0.0                          0.0   \n",
       "pepe                           5.0                          0.0   \n",
       "teus                           5.0                          0.0   \n",
       "yasset                         0.0                          0.0   \n",
       "\n",
       "wine      Manzanilla La Gitana  Molino Real 2002  Pol Roger Rose 1998  \\\n",
       "username                                                                \n",
       "carlos                     4.0               4.0                  0.0   \n",
       "jadianes                   4.0               4.0                  3.0   \n",
       "john                       2.0               2.0                  4.0   \n",
       "lluis                      4.0               0.0                  0.0   \n",
       "mari                       3.0               5.0                  2.0   \n",
       "pepe                       4.0               0.0                  2.0   \n",
       "teus                       4.0               5.0                  0.0   \n",
       "yasset                     4.0               1.0                  2.0   \n",
       "\n",
       "wine      Raveneu Le Clos 1996  Rosseau Chambertin 2001  \\\n",
       "username                                                  \n",
       "carlos                     0.0                      0.0   \n",
       "jadianes                   0.0                      0.0   \n",
       "john                       0.0                      0.0   \n",
       "lluis                      0.0                      4.0   \n",
       "mari                       5.0                      0.0   \n",
       "pepe                       0.0                      4.0   \n",
       "teus                       0.0                      0.0   \n",
       "yasset                     4.0                      0.0   \n",
       "\n",
       "wine      Vega Sicilia Unico 1989  Viña Tondonia Blanco Reserva 1981  \n",
       "username                                                              \n",
       "carlos                        0.0                                0.0  \n",
       "jadianes                      0.0                                0.0  \n",
       "john                          0.0                                0.0  \n",
       "lluis                         0.0                                5.0  \n",
       "mari                          0.0                                0.0  \n",
       "pepe                          4.0                                0.0  \n",
       "teus                          0.0                                4.0  \n",
       "yasset                        5.0                                0.0  "
      ]
     },
     "execution_count": 8,
     "metadata": {},
     "output_type": "execute_result"
    }
   ],
   "source": [
    "wine_ratings_pivoted = wine_ratings_pivoted.fillna(0)\n",
    "wine_ratings_pivoted"
   ]
  },
  {
   "cell_type": "code",
   "execution_count": 9,
   "metadata": {
    "collapsed": false
   },
   "outputs": [],
   "source": [
    "def get_recommended_wine_for(username, wine_ratings):\n",
    "    wine = wine_ratings.loc[username, :]\n",
    "    return list(map(lambda x: True if x[1] == 0 else False, enumerate(wine)))"
   ]
  },
  {
   "cell_type": "code",
   "execution_count": 10,
   "metadata": {
    "collapsed": false
   },
   "outputs": [
    {
     "data": {
      "text/plain": [
       "[True, False, True, True, False, False, True, True, True, True, True]"
      ]
     },
     "execution_count": 10,
     "metadata": {},
     "output_type": "execute_result"
    }
   ],
   "source": [
    "get_recommended_wine_for('carlos', wine_ratings_pivoted)"
   ]
  },
  {
   "cell_type": "code",
   "execution_count": 18,
   "metadata": {
    "collapsed": false
   },
   "outputs": [
    {
     "data": {
      "text/plain": [
       "wine\n",
       "Chateau Latour 1982                  0.0\n",
       "JL Chave Hermitage 2001              0.0\n",
       "La Bota de Amontillado 1             0.0\n",
       "Le Grappin Bagnum Rose 2013          0.0\n",
       "Rosseau Chambertin 2001              0.0\n",
       "Vega Sicilia Unico 1989              0.0\n",
       "Viña Tondonia Blanco Reserva 1981    0.0\n",
       "Name: mari, dtype: float64"
      ]
     },
     "execution_count": 18,
     "metadata": {},
     "output_type": "execute_result"
    }
   ],
   "source": [
    "wine_ratings_pivoted.loc['mari', get_recommended_wine_for('mari', wine_ratings_pivoted)]"
   ]
  },
  {
   "cell_type": "markdown",
   "metadata": {},
   "source": [
    "## Use $k$-Means Clustering for Better Recommendation"
   ]
  },
  {
   "cell_type": "code",
   "execution_count": 13,
   "metadata": {
    "collapsed": false
   },
   "outputs": [
    {
     "data": {
      "text/plain": [
       "KMeans(copy_x=True, init='k-means++', max_iter=300, n_clusters=3, n_init=10,\n",
       "    n_jobs=1, precompute_distances='auto', random_state=None, tol=0.0001,\n",
       "    verbose=0)"
      ]
     },
     "execution_count": 13,
     "metadata": {},
     "output_type": "execute_result"
    }
   ],
   "source": [
    "# import\n",
    "from sklearn import cluster\n",
    "\n",
    "# instantiate\n",
    "k = 3\n",
    "kmeans = cluster.KMeans(n_clusters=k)\n",
    "\n",
    "# fit\n",
    "kmeans.fit(wine_ratings_pivoted)"
   ]
  },
  {
   "cell_type": "code",
   "execution_count": 14,
   "metadata": {
    "collapsed": false
   },
   "outputs": [
    {
     "data": {
      "text/plain": [
       "array([[ 0.        ,  2.25      ,  0.5       ,  0.75      ,  3.25      ,\n",
       "         3.        ,  2.        ,  2.25      ,  0.        ,  1.25      ,\n",
       "         0.        ],\n",
       "       [ 4.        ,  0.        ,  0.        ,  0.        ,  4.        ,\n",
       "         0.        ,  0.        ,  0.        ,  4.        ,  0.        ,\n",
       "         5.        ],\n",
       "       [ 0.        ,  0.        ,  5.        ,  0.66666667,  4.        ,\n",
       "         3.        ,  1.66666667,  0.        ,  1.33333333,  1.33333333,\n",
       "         1.33333333]])"
      ]
     },
     "execution_count": 14,
     "metadata": {},
     "output_type": "execute_result"
    }
   ],
   "source": [
    "kmeans.cluster_centers_"
   ]
  },
  {
   "cell_type": "code",
   "execution_count": 15,
   "metadata": {
    "collapsed": false
   },
   "outputs": [
    {
     "data": {
      "text/plain": [
       "array([0, 2, 0, 1, 0, 2, 2, 0], dtype=int32)"
      ]
     },
     "execution_count": 15,
     "metadata": {},
     "output_type": "execute_result"
    }
   ],
   "source": [
    "kmeans.labels_"
   ]
  },
  {
   "cell_type": "code",
   "execution_count": 19,
   "metadata": {
    "collapsed": false
   },
   "outputs": [
    {
     "data": {
      "text/plain": [
       "array([2], dtype=int32)"
      ]
     },
     "execution_count": 19,
     "metadata": {},
     "output_type": "execute_result"
    }
   ],
   "source": [
    "kmeans.predict([wine_ratings_pivoted.loc['teus', :]])"
   ]
  },
  {
   "cell_type": "code",
   "execution_count": 29,
   "metadata": {
    "collapsed": true
   },
   "outputs": [],
   "source": [
    "kan_taste = [5.0, 0.0, 1.0, 0.0, 4.0, 1.0, 2.0, 4.0, 0.0, 5.0, 5.0]"
   ]
  },
  {
   "cell_type": "code",
   "execution_count": 30,
   "metadata": {
    "collapsed": false
   },
   "outputs": [
    {
     "data": {
      "text/plain": [
       "array([1], dtype=int32)"
      ]
     },
     "execution_count": 30,
     "metadata": {},
     "output_type": "execute_result"
    }
   ],
   "source": [
    "kmeans.predict([kan_taste])"
   ]
  },
  {
   "cell_type": "code",
   "execution_count": 31,
   "metadata": {
    "collapsed": true
   },
   "outputs": [],
   "source": [
    "wine_ratings_pivoted['label'] = kmeans.labels_"
   ]
  },
  {
   "cell_type": "code",
   "execution_count": 32,
   "metadata": {
    "collapsed": false
   },
   "outputs": [
    {
     "data": {
      "text/html": [
       "<div>\n",
       "<table border=\"1\" class=\"dataframe\">\n",
       "  <thead>\n",
       "    <tr style=\"text-align: right;\">\n",
       "      <th>wine</th>\n",
       "      <th>Chateau Latour 1982</th>\n",
       "      <th>JL Chave Hermitage 2001</th>\n",
       "      <th>La Bota de Amontillado 1</th>\n",
       "      <th>Le Grappin Bagnum Rose 2013</th>\n",
       "      <th>Manzanilla La Gitana</th>\n",
       "      <th>Molino Real 2002</th>\n",
       "      <th>Pol Roger Rose 1998</th>\n",
       "      <th>Raveneu Le Clos 1996</th>\n",
       "      <th>Rosseau Chambertin 2001</th>\n",
       "      <th>Vega Sicilia Unico 1989</th>\n",
       "      <th>Viña Tondonia Blanco Reserva 1981</th>\n",
       "      <th>label</th>\n",
       "    </tr>\n",
       "    <tr>\n",
       "      <th>username</th>\n",
       "      <th></th>\n",
       "      <th></th>\n",
       "      <th></th>\n",
       "      <th></th>\n",
       "      <th></th>\n",
       "      <th></th>\n",
       "      <th></th>\n",
       "      <th></th>\n",
       "      <th></th>\n",
       "      <th></th>\n",
       "      <th></th>\n",
       "      <th></th>\n",
       "    </tr>\n",
       "  </thead>\n",
       "  <tbody>\n",
       "    <tr>\n",
       "      <th>carlos</th>\n",
       "      <td>0.0</td>\n",
       "      <td>5.0</td>\n",
       "      <td>0.0</td>\n",
       "      <td>0.0</td>\n",
       "      <td>4.0</td>\n",
       "      <td>4.0</td>\n",
       "      <td>0.0</td>\n",
       "      <td>0.0</td>\n",
       "      <td>0.0</td>\n",
       "      <td>0.0</td>\n",
       "      <td>0.0</td>\n",
       "      <td>0</td>\n",
       "    </tr>\n",
       "    <tr>\n",
       "      <th>jadianes</th>\n",
       "      <td>0.0</td>\n",
       "      <td>0.0</td>\n",
       "      <td>5.0</td>\n",
       "      <td>2.0</td>\n",
       "      <td>4.0</td>\n",
       "      <td>4.0</td>\n",
       "      <td>3.0</td>\n",
       "      <td>0.0</td>\n",
       "      <td>0.0</td>\n",
       "      <td>0.0</td>\n",
       "      <td>0.0</td>\n",
       "      <td>2</td>\n",
       "    </tr>\n",
       "    <tr>\n",
       "      <th>john</th>\n",
       "      <td>0.0</td>\n",
       "      <td>4.0</td>\n",
       "      <td>2.0</td>\n",
       "      <td>3.0</td>\n",
       "      <td>2.0</td>\n",
       "      <td>2.0</td>\n",
       "      <td>4.0</td>\n",
       "      <td>0.0</td>\n",
       "      <td>0.0</td>\n",
       "      <td>0.0</td>\n",
       "      <td>0.0</td>\n",
       "      <td>0</td>\n",
       "    </tr>\n",
       "    <tr>\n",
       "      <th>lluis</th>\n",
       "      <td>4.0</td>\n",
       "      <td>0.0</td>\n",
       "      <td>0.0</td>\n",
       "      <td>0.0</td>\n",
       "      <td>4.0</td>\n",
       "      <td>0.0</td>\n",
       "      <td>0.0</td>\n",
       "      <td>0.0</td>\n",
       "      <td>4.0</td>\n",
       "      <td>0.0</td>\n",
       "      <td>5.0</td>\n",
       "      <td>1</td>\n",
       "    </tr>\n",
       "    <tr>\n",
       "      <th>mari</th>\n",
       "      <td>0.0</td>\n",
       "      <td>0.0</td>\n",
       "      <td>0.0</td>\n",
       "      <td>0.0</td>\n",
       "      <td>3.0</td>\n",
       "      <td>5.0</td>\n",
       "      <td>2.0</td>\n",
       "      <td>5.0</td>\n",
       "      <td>0.0</td>\n",
       "      <td>0.0</td>\n",
       "      <td>0.0</td>\n",
       "      <td>0</td>\n",
       "    </tr>\n",
       "    <tr>\n",
       "      <th>pepe</th>\n",
       "      <td>0.0</td>\n",
       "      <td>0.0</td>\n",
       "      <td>5.0</td>\n",
       "      <td>0.0</td>\n",
       "      <td>4.0</td>\n",
       "      <td>0.0</td>\n",
       "      <td>2.0</td>\n",
       "      <td>0.0</td>\n",
       "      <td>4.0</td>\n",
       "      <td>4.0</td>\n",
       "      <td>0.0</td>\n",
       "      <td>2</td>\n",
       "    </tr>\n",
       "    <tr>\n",
       "      <th>teus</th>\n",
       "      <td>0.0</td>\n",
       "      <td>0.0</td>\n",
       "      <td>5.0</td>\n",
       "      <td>0.0</td>\n",
       "      <td>4.0</td>\n",
       "      <td>5.0</td>\n",
       "      <td>0.0</td>\n",
       "      <td>0.0</td>\n",
       "      <td>0.0</td>\n",
       "      <td>0.0</td>\n",
       "      <td>4.0</td>\n",
       "      <td>2</td>\n",
       "    </tr>\n",
       "    <tr>\n",
       "      <th>yasset</th>\n",
       "      <td>0.0</td>\n",
       "      <td>0.0</td>\n",
       "      <td>0.0</td>\n",
       "      <td>0.0</td>\n",
       "      <td>4.0</td>\n",
       "      <td>1.0</td>\n",
       "      <td>2.0</td>\n",
       "      <td>4.0</td>\n",
       "      <td>0.0</td>\n",
       "      <td>5.0</td>\n",
       "      <td>0.0</td>\n",
       "      <td>0</td>\n",
       "    </tr>\n",
       "  </tbody>\n",
       "</table>\n",
       "</div>"
      ],
      "text/plain": [
       "wine      Chateau Latour 1982  JL Chave Hermitage 2001  \\\n",
       "username                                                 \n",
       "carlos                    0.0                      5.0   \n",
       "jadianes                  0.0                      0.0   \n",
       "john                      0.0                      4.0   \n",
       "lluis                     4.0                      0.0   \n",
       "mari                      0.0                      0.0   \n",
       "pepe                      0.0                      0.0   \n",
       "teus                      0.0                      0.0   \n",
       "yasset                    0.0                      0.0   \n",
       "\n",
       "wine      La Bota de Amontillado 1  Le Grappin Bagnum Rose 2013  \\\n",
       "username                                                          \n",
       "carlos                         0.0                          0.0   \n",
       "jadianes                       5.0                          2.0   \n",
       "john                           2.0                          3.0   \n",
       "lluis                          0.0                          0.0   \n",
       "mari                           0.0                          0.0   \n",
       "pepe                           5.0                          0.0   \n",
       "teus                           5.0                          0.0   \n",
       "yasset                         0.0                          0.0   \n",
       "\n",
       "wine      Manzanilla La Gitana  Molino Real 2002  Pol Roger Rose 1998  \\\n",
       "username                                                                \n",
       "carlos                     4.0               4.0                  0.0   \n",
       "jadianes                   4.0               4.0                  3.0   \n",
       "john                       2.0               2.0                  4.0   \n",
       "lluis                      4.0               0.0                  0.0   \n",
       "mari                       3.0               5.0                  2.0   \n",
       "pepe                       4.0               0.0                  2.0   \n",
       "teus                       4.0               5.0                  0.0   \n",
       "yasset                     4.0               1.0                  2.0   \n",
       "\n",
       "wine      Raveneu Le Clos 1996  Rosseau Chambertin 2001  \\\n",
       "username                                                  \n",
       "carlos                     0.0                      0.0   \n",
       "jadianes                   0.0                      0.0   \n",
       "john                       0.0                      0.0   \n",
       "lluis                      0.0                      4.0   \n",
       "mari                       5.0                      0.0   \n",
       "pepe                       0.0                      4.0   \n",
       "teus                       0.0                      0.0   \n",
       "yasset                     4.0                      0.0   \n",
       "\n",
       "wine      Vega Sicilia Unico 1989  Viña Tondonia Blanco Reserva 1981  label  \n",
       "username                                                                     \n",
       "carlos                        0.0                                0.0      0  \n",
       "jadianes                      0.0                                0.0      2  \n",
       "john                          0.0                                0.0      0  \n",
       "lluis                         0.0                                5.0      1  \n",
       "mari                          0.0                                0.0      0  \n",
       "pepe                          4.0                                0.0      2  \n",
       "teus                          0.0                                4.0      2  \n",
       "yasset                        5.0                                0.0      0  "
      ]
     },
     "execution_count": 32,
     "metadata": {},
     "output_type": "execute_result"
    }
   ],
   "source": [
    "wine_ratings_pivoted"
   ]
  },
  {
   "cell_type": "code",
   "execution_count": 35,
   "metadata": {
    "collapsed": false
   },
   "outputs": [
    {
     "data": {
      "text/html": [
       "<div>\n",
       "<table border=\"1\" class=\"dataframe\">\n",
       "  <thead>\n",
       "    <tr style=\"text-align: right;\">\n",
       "      <th>wine</th>\n",
       "      <th>Chateau Latour 1982</th>\n",
       "      <th>JL Chave Hermitage 2001</th>\n",
       "      <th>La Bota de Amontillado 1</th>\n",
       "      <th>Le Grappin Bagnum Rose 2013</th>\n",
       "      <th>Manzanilla La Gitana</th>\n",
       "      <th>Molino Real 2002</th>\n",
       "      <th>Pol Roger Rose 1998</th>\n",
       "      <th>Raveneu Le Clos 1996</th>\n",
       "      <th>Rosseau Chambertin 2001</th>\n",
       "      <th>Vega Sicilia Unico 1989</th>\n",
       "      <th>Viña Tondonia Blanco Reserva 1981</th>\n",
       "      <th>label</th>\n",
       "    </tr>\n",
       "    <tr>\n",
       "      <th>username</th>\n",
       "      <th></th>\n",
       "      <th></th>\n",
       "      <th></th>\n",
       "      <th></th>\n",
       "      <th></th>\n",
       "      <th></th>\n",
       "      <th></th>\n",
       "      <th></th>\n",
       "      <th></th>\n",
       "      <th></th>\n",
       "      <th></th>\n",
       "      <th></th>\n",
       "    </tr>\n",
       "  </thead>\n",
       "  <tbody>\n",
       "    <tr>\n",
       "      <th>lluis</th>\n",
       "      <td>4.0</td>\n",
       "      <td>0.0</td>\n",
       "      <td>0.0</td>\n",
       "      <td>0.0</td>\n",
       "      <td>4.0</td>\n",
       "      <td>0.0</td>\n",
       "      <td>0.0</td>\n",
       "      <td>0.0</td>\n",
       "      <td>4.0</td>\n",
       "      <td>0.0</td>\n",
       "      <td>5.0</td>\n",
       "      <td>1</td>\n",
       "    </tr>\n",
       "  </tbody>\n",
       "</table>\n",
       "</div>"
      ],
      "text/plain": [
       "wine      Chateau Latour 1982  JL Chave Hermitage 2001  \\\n",
       "username                                                 \n",
       "lluis                     4.0                      0.0   \n",
       "\n",
       "wine      La Bota de Amontillado 1  Le Grappin Bagnum Rose 2013  \\\n",
       "username                                                          \n",
       "lluis                          0.0                          0.0   \n",
       "\n",
       "wine      Manzanilla La Gitana  Molino Real 2002  Pol Roger Rose 1998  \\\n",
       "username                                                                \n",
       "lluis                      4.0               0.0                  0.0   \n",
       "\n",
       "wine      Raveneu Le Clos 1996  Rosseau Chambertin 2001  \\\n",
       "username                                                  \n",
       "lluis                      0.0                      4.0   \n",
       "\n",
       "wine      Vega Sicilia Unico 1989  Viña Tondonia Blanco Reserva 1981  label  \n",
       "username                                                                     \n",
       "lluis                         0.0                                5.0      1  "
      ]
     },
     "execution_count": 35,
     "metadata": {},
     "output_type": "execute_result"
    }
   ],
   "source": [
    "kan_taste = [5.0, 0.0, 1.0, 0.0, 4.0, 1.0, 2.0, 4.0, 0.0, 5.0, 5.0]\n",
    "pred = kmeans.predict([kan_taste])\n",
    "\n",
    "wine_ratings_pivoted[wine_ratings_pivoted.label == pred[0]]"
   ]
  },
  {
   "cell_type": "markdown",
   "metadata": {},
   "source": [
    "Find out which wine Kan has never tasted from Lluis's list."
   ]
  },
  {
   "cell_type": "code",
   "execution_count": 42,
   "metadata": {
    "collapsed": false
   },
   "outputs": [
    {
     "data": {
      "text/plain": [
       "wine\n",
       "JL Chave Hermitage 2001        0.0\n",
       "Le Grappin Bagnum Rose 2013    0.0\n",
       "Rosseau Chambertin 2001        4.0\n",
       "Name: lluis, dtype: float64"
      ]
     },
     "execution_count": 42,
     "metadata": {},
     "output_type": "execute_result"
    }
   ],
   "source": [
    "wine_ratings_pivoted.loc['lluis', list(map(lambda x: True if x == 0 else False, kan_taste))]"
   ]
  },
  {
   "cell_type": "markdown",
   "metadata": {},
   "source": [
    "We then should recommend \"Rosseau Chambertin 2001\" to Kan."
   ]
  }
 ],
 "metadata": {
  "anaconda-cloud": {},
  "kernelspec": {
   "display_name": "Python [Root]",
   "language": "python",
   "name": "Python [Root]"
  },
  "language_info": {
   "codemirror_mode": {
    "name": "ipython",
    "version": 3
   },
   "file_extension": ".py",
   "mimetype": "text/x-python",
   "name": "python",
   "nbconvert_exporter": "python",
   "pygments_lexer": "ipython3",
   "version": "3.5.1"
  }
 },
 "nbformat": 4,
 "nbformat_minor": 0
}
